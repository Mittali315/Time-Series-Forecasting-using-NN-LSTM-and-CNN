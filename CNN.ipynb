{
 "cells": [
  {
   "cell_type": "code",
   "execution_count": 2,
   "metadata": {},
   "outputs": [],
   "source": [
    "import pandas as pd\n",
    "from sklearn.model_selection import train_test_split\n",
    "import matplotlib.pyplot as plt\n",
    "import numpy as np\n",
    "from sklearn.covariance import EllipticEnvelope\n",
    "import collections\n",
    "from sklearn import preprocessing\n",
    "from sklearn.preprocessing import MinMaxScaler\n",
    "\n",
    "from sklearn import metrics\n",
    "\n",
    "from tensorflow.keras.models import Sequential\n",
    "from tensorflow.keras.layers import Dense, Activation\n",
    "from tensorflow.keras.callbacks import EarlyStopping\n",
    "from tensorflow.keras.callbacks import ModelCheckpoint\n",
    "from tensorflow.keras import optimizers"
   ]
  },
  {
   "cell_type": "code",
   "execution_count": 3,
   "metadata": {},
   "outputs": [
    {
     "data": {
      "text/html": [
       "<div>\n",
       "<style scoped>\n",
       "    .dataframe tbody tr th:only-of-type {\n",
       "        vertical-align: middle;\n",
       "    }\n",
       "\n",
       "    .dataframe tbody tr th {\n",
       "        vertical-align: top;\n",
       "    }\n",
       "\n",
       "    .dataframe thead th {\n",
       "        text-align: right;\n",
       "    }\n",
       "</style>\n",
       "<table border=\"1\" class=\"dataframe\">\n",
       "  <thead>\n",
       "    <tr style=\"text-align: right;\">\n",
       "      <th></th>\n",
       "      <th>Open</th>\n",
       "      <th>High</th>\n",
       "      <th>Low</th>\n",
       "      <th>Close</th>\n",
       "      <th>Volume</th>\n",
       "    </tr>\n",
       "  </thead>\n",
       "  <tbody>\n",
       "    <tr>\n",
       "      <td>0</td>\n",
       "      <td>3.812500</td>\n",
       "      <td>4.156250</td>\n",
       "      <td>3.812500</td>\n",
       "      <td>4.125000</td>\n",
       "      <td>3675600</td>\n",
       "    </tr>\n",
       "    <tr>\n",
       "      <td>1</td>\n",
       "      <td>4.125000</td>\n",
       "      <td>4.125000</td>\n",
       "      <td>4.000000</td>\n",
       "      <td>4.015625</td>\n",
       "      <td>1077600</td>\n",
       "    </tr>\n",
       "    <tr>\n",
       "      <td>2</td>\n",
       "      <td>4.000000</td>\n",
       "      <td>4.031250</td>\n",
       "      <td>3.953125</td>\n",
       "      <td>4.000000</td>\n",
       "      <td>437200</td>\n",
       "    </tr>\n",
       "    <tr>\n",
       "      <td>3</td>\n",
       "      <td>4.000000</td>\n",
       "      <td>4.000000</td>\n",
       "      <td>3.843750</td>\n",
       "      <td>3.843750</td>\n",
       "      <td>1883600</td>\n",
       "    </tr>\n",
       "    <tr>\n",
       "      <td>4</td>\n",
       "      <td>3.734375</td>\n",
       "      <td>3.734375</td>\n",
       "      <td>3.390625</td>\n",
       "      <td>3.390625</td>\n",
       "      <td>7931600</td>\n",
       "    </tr>\n",
       "    <tr>\n",
       "      <td>...</td>\n",
       "      <td>...</td>\n",
       "      <td>...</td>\n",
       "      <td>...</td>\n",
       "      <td>...</td>\n",
       "      <td>...</td>\n",
       "    </tr>\n",
       "    <tr>\n",
       "      <td>4387</td>\n",
       "      <td>113.790001</td>\n",
       "      <td>114.099998</td>\n",
       "      <td>112.790001</td>\n",
       "      <td>113.309998</td>\n",
       "      <td>950000</td>\n",
       "    </tr>\n",
       "    <tr>\n",
       "      <td>4388</td>\n",
       "      <td>112.519997</td>\n",
       "      <td>113.529999</td>\n",
       "      <td>111.160004</td>\n",
       "      <td>111.870003</td>\n",
       "      <td>1805200</td>\n",
       "    </tr>\n",
       "    <tr>\n",
       "      <td>4389</td>\n",
       "      <td>112.029999</td>\n",
       "      <td>112.489998</td>\n",
       "      <td>110.250000</td>\n",
       "      <td>112.230003</td>\n",
       "      <td>2136700</td>\n",
       "    </tr>\n",
       "    <tr>\n",
       "      <td>4390</td>\n",
       "      <td>112.459999</td>\n",
       "      <td>112.900002</td>\n",
       "      <td>112.000000</td>\n",
       "      <td>112.339996</td>\n",
       "      <td>1251600</td>\n",
       "    </tr>\n",
       "    <tr>\n",
       "      <td>4391</td>\n",
       "      <td>112.300003</td>\n",
       "      <td>114.790001</td>\n",
       "      <td>112.010002</td>\n",
       "      <td>113.190002</td>\n",
       "      <td>1611700</td>\n",
       "    </tr>\n",
       "  </tbody>\n",
       "</table>\n",
       "<p>4392 rows × 5 columns</p>\n",
       "</div>"
      ],
      "text/plain": [
       "            Open        High         Low       Close   Volume\n",
       "0       3.812500    4.156250    3.812500    4.125000  3675600\n",
       "1       4.125000    4.125000    4.000000    4.015625  1077600\n",
       "2       4.000000    4.031250    3.953125    4.000000   437200\n",
       "3       4.000000    4.000000    3.843750    3.843750  1883600\n",
       "4       3.734375    3.734375    3.390625    3.390625  7931600\n",
       "...          ...         ...         ...         ...      ...\n",
       "4387  113.790001  114.099998  112.790001  113.309998   950000\n",
       "4388  112.519997  113.529999  111.160004  111.870003  1805200\n",
       "4389  112.029999  112.489998  110.250000  112.230003  2136700\n",
       "4390  112.459999  112.900002  112.000000  112.339996  1251600\n",
       "4391  112.300003  114.790001  112.010002  113.190002  1611700\n",
       "\n",
       "[4392 rows x 5 columns]"
      ]
     },
     "execution_count": 3,
     "metadata": {},
     "output_type": "execute_result"
    }
   ],
   "source": [
    "data = pd.read_csv('CSC215_P2_Stock_Price.csv')\n",
    "data.drop(['Date','Adj_Close'], axis=1, inplace=True)\n",
    "data"
   ]
  },
  {
   "cell_type": "code",
   "execution_count": 4,
   "metadata": {},
   "outputs": [
    {
     "data": {
      "text/html": [
       "<div>\n",
       "<style scoped>\n",
       "    .dataframe tbody tr th:only-of-type {\n",
       "        vertical-align: middle;\n",
       "    }\n",
       "\n",
       "    .dataframe tbody tr th {\n",
       "        vertical-align: top;\n",
       "    }\n",
       "\n",
       "    .dataframe thead th {\n",
       "        text-align: right;\n",
       "    }\n",
       "</style>\n",
       "<table border=\"1\" class=\"dataframe\">\n",
       "  <thead>\n",
       "    <tr style=\"text-align: right;\">\n",
       "      <th></th>\n",
       "      <th>Open</th>\n",
       "      <th>High</th>\n",
       "      <th>Low</th>\n",
       "      <th>Close</th>\n",
       "      <th>Volume</th>\n",
       "      <th>y</th>\n",
       "    </tr>\n",
       "  </thead>\n",
       "  <tbody>\n",
       "    <tr>\n",
       "      <td>0</td>\n",
       "      <td>3.812500</td>\n",
       "      <td>4.156250</td>\n",
       "      <td>3.812500</td>\n",
       "      <td>4.125000</td>\n",
       "      <td>3675600</td>\n",
       "      <td>4.125000</td>\n",
       "    </tr>\n",
       "    <tr>\n",
       "      <td>1</td>\n",
       "      <td>4.125000</td>\n",
       "      <td>4.125000</td>\n",
       "      <td>4.000000</td>\n",
       "      <td>4.015625</td>\n",
       "      <td>1077600</td>\n",
       "      <td>4.015625</td>\n",
       "    </tr>\n",
       "    <tr>\n",
       "      <td>2</td>\n",
       "      <td>4.000000</td>\n",
       "      <td>4.031250</td>\n",
       "      <td>3.953125</td>\n",
       "      <td>4.000000</td>\n",
       "      <td>437200</td>\n",
       "      <td>4.000000</td>\n",
       "    </tr>\n",
       "    <tr>\n",
       "      <td>3</td>\n",
       "      <td>4.000000</td>\n",
       "      <td>4.000000</td>\n",
       "      <td>3.843750</td>\n",
       "      <td>3.843750</td>\n",
       "      <td>1883600</td>\n",
       "      <td>3.843750</td>\n",
       "    </tr>\n",
       "    <tr>\n",
       "      <td>4</td>\n",
       "      <td>3.734375</td>\n",
       "      <td>3.734375</td>\n",
       "      <td>3.390625</td>\n",
       "      <td>3.390625</td>\n",
       "      <td>7931600</td>\n",
       "      <td>3.390625</td>\n",
       "    </tr>\n",
       "    <tr>\n",
       "      <td>...</td>\n",
       "      <td>...</td>\n",
       "      <td>...</td>\n",
       "      <td>...</td>\n",
       "      <td>...</td>\n",
       "      <td>...</td>\n",
       "      <td>...</td>\n",
       "    </tr>\n",
       "    <tr>\n",
       "      <td>4387</td>\n",
       "      <td>113.790001</td>\n",
       "      <td>114.099998</td>\n",
       "      <td>112.790001</td>\n",
       "      <td>113.309998</td>\n",
       "      <td>950000</td>\n",
       "      <td>113.309998</td>\n",
       "    </tr>\n",
       "    <tr>\n",
       "      <td>4388</td>\n",
       "      <td>112.519997</td>\n",
       "      <td>113.529999</td>\n",
       "      <td>111.160004</td>\n",
       "      <td>111.870003</td>\n",
       "      <td>1805200</td>\n",
       "      <td>111.870003</td>\n",
       "    </tr>\n",
       "    <tr>\n",
       "      <td>4389</td>\n",
       "      <td>112.029999</td>\n",
       "      <td>112.489998</td>\n",
       "      <td>110.250000</td>\n",
       "      <td>112.230003</td>\n",
       "      <td>2136700</td>\n",
       "      <td>112.230003</td>\n",
       "    </tr>\n",
       "    <tr>\n",
       "      <td>4390</td>\n",
       "      <td>112.459999</td>\n",
       "      <td>112.900002</td>\n",
       "      <td>112.000000</td>\n",
       "      <td>112.339996</td>\n",
       "      <td>1251600</td>\n",
       "      <td>112.339996</td>\n",
       "    </tr>\n",
       "    <tr>\n",
       "      <td>4391</td>\n",
       "      <td>112.300003</td>\n",
       "      <td>114.790001</td>\n",
       "      <td>112.010002</td>\n",
       "      <td>113.190002</td>\n",
       "      <td>1611700</td>\n",
       "      <td>113.190002</td>\n",
       "    </tr>\n",
       "  </tbody>\n",
       "</table>\n",
       "<p>4392 rows × 6 columns</p>\n",
       "</div>"
      ],
      "text/plain": [
       "            Open        High         Low       Close   Volume           y\n",
       "0       3.812500    4.156250    3.812500    4.125000  3675600    4.125000\n",
       "1       4.125000    4.125000    4.000000    4.015625  1077600    4.015625\n",
       "2       4.000000    4.031250    3.953125    4.000000   437200    4.000000\n",
       "3       4.000000    4.000000    3.843750    3.843750  1883600    3.843750\n",
       "4       3.734375    3.734375    3.390625    3.390625  7931600    3.390625\n",
       "...          ...         ...         ...         ...      ...         ...\n",
       "4387  113.790001  114.099998  112.790001  113.309998   950000  113.309998\n",
       "4388  112.519997  113.529999  111.160004  111.870003  1805200  111.870003\n",
       "4389  112.029999  112.489998  110.250000  112.230003  2136700  112.230003\n",
       "4390  112.459999  112.900002  112.000000  112.339996  1251600  112.339996\n",
       "4391  112.300003  114.790001  112.010002  113.190002  1611700  113.190002\n",
       "\n",
       "[4392 rows x 6 columns]"
      ]
     },
     "execution_count": 4,
     "metadata": {},
     "output_type": "execute_result"
    }
   ],
   "source": [
    "data['y'] = data['Close']\n",
    "data"
   ]
  },
  {
   "cell_type": "code",
   "execution_count": 5,
   "metadata": {},
   "outputs": [],
   "source": [
    "def chart_regression(pred,y,sort=True):\n",
    "    t = pd.DataFrame({'pred' : pred, 'y' : y.flatten()})\n",
    "    if sort:\n",
    "        t.sort_values(by=['y'],inplace=True)\n",
    "    a = plt.plot(t['y'].tolist(),label='expected')\n",
    "    b = plt.plot(t['pred'].tolist(),label='prediction')\n",
    "    plt.ylabel('output')\n",
    "    plt.legend()\n",
    "    plt.show()\n",
    "    "
   ]
  },
  {
   "cell_type": "code",
   "execution_count": 6,
   "metadata": {},
   "outputs": [],
   "source": [
    "def to_sequences(seq_size, data1, data2):\n",
    "    x = []\n",
    "    y = []\n",
    "\n",
    "    for i in range(len(data1)-seq_size):\n",
    "        #print(i)\n",
    "        window = data1[i:(i+seq_size)]\n",
    "        after_window = data2[i+seq_size]\n",
    "        window = [[x] for x in window]\n",
    "        #print(\"{} - {}\".format(window,after_window))\n",
    "        x.append(window)\n",
    "        y.append(after_window)\n",
    "        \n",
    "    return np.array(x), np.array(y)"
   ]
  },
  {
   "cell_type": "code",
   "execution_count": 7,
   "metadata": {},
   "outputs": [],
   "source": [
    "def encode_numeric_zscore(df, name, mean=None, sd=None):\n",
    "    if mean is None:\n",
    "        mean = df[name].mean()\n",
    "\n",
    "    if sd is None:\n",
    "        sd = df[name].std()\n",
    "\n",
    "    df[name] = (df[name] - mean) / sd"
   ]
  },
  {
   "cell_type": "code",
   "execution_count": 8,
   "metadata": {},
   "outputs": [],
   "source": [
    "encode_numeric_zscore(data,'Open')\n",
    "encode_numeric_zscore(data,'High')\n",
    "encode_numeric_zscore(data,'Low')\n",
    "encode_numeric_zscore(data,'Close')\n",
    "#encode_numeric_zscore(data,'Adj Close')\n",
    "encode_numeric_zscore(data,'Volume')"
   ]
  },
  {
   "cell_type": "code",
   "execution_count": 9,
   "metadata": {},
   "outputs": [
    {
     "data": {
      "text/html": [
       "<div>\n",
       "<style scoped>\n",
       "    .dataframe tbody tr th:only-of-type {\n",
       "        vertical-align: middle;\n",
       "    }\n",
       "\n",
       "    .dataframe tbody tr th {\n",
       "        vertical-align: top;\n",
       "    }\n",
       "\n",
       "    .dataframe thead th {\n",
       "        text-align: right;\n",
       "    }\n",
       "</style>\n",
       "<table border=\"1\" class=\"dataframe\">\n",
       "  <thead>\n",
       "    <tr style=\"text-align: right;\">\n",
       "      <th></th>\n",
       "      <th>Open</th>\n",
       "      <th>High</th>\n",
       "      <th>Low</th>\n",
       "      <th>Close</th>\n",
       "      <th>Volume</th>\n",
       "      <th>y</th>\n",
       "    </tr>\n",
       "  </thead>\n",
       "  <tbody>\n",
       "    <tr>\n",
       "      <td>0</td>\n",
       "      <td>-0.894209</td>\n",
       "      <td>-0.885022</td>\n",
       "      <td>-0.892306</td>\n",
       "      <td>-0.884364</td>\n",
       "      <td>1.104812</td>\n",
       "      <td>4.125000</td>\n",
       "    </tr>\n",
       "    <tr>\n",
       "      <td>1</td>\n",
       "      <td>-0.883762</td>\n",
       "      <td>-0.886056</td>\n",
       "      <td>-0.885975</td>\n",
       "      <td>-0.888021</td>\n",
       "      <td>-0.497301</td>\n",
       "      <td>4.015625</td>\n",
       "    </tr>\n",
       "    <tr>\n",
       "      <td>2</td>\n",
       "      <td>-0.887941</td>\n",
       "      <td>-0.889159</td>\n",
       "      <td>-0.887558</td>\n",
       "      <td>-0.888543</td>\n",
       "      <td>-0.892217</td>\n",
       "      <td>4.000000</td>\n",
       "    </tr>\n",
       "    <tr>\n",
       "      <td>3</td>\n",
       "      <td>-0.887941</td>\n",
       "      <td>-0.890194</td>\n",
       "      <td>-0.891251</td>\n",
       "      <td>-0.893768</td>\n",
       "      <td>-0.000263</td>\n",
       "      <td>3.843750</td>\n",
       "    </tr>\n",
       "    <tr>\n",
       "      <td>4</td>\n",
       "      <td>-0.896820</td>\n",
       "      <td>-0.898986</td>\n",
       "      <td>-0.906551</td>\n",
       "      <td>-0.908920</td>\n",
       "      <td>3.729366</td>\n",
       "      <td>3.390625</td>\n",
       "    </tr>\n",
       "    <tr>\n",
       "      <td>...</td>\n",
       "      <td>...</td>\n",
       "      <td>...</td>\n",
       "      <td>...</td>\n",
       "      <td>...</td>\n",
       "      <td>...</td>\n",
       "      <td>...</td>\n",
       "    </tr>\n",
       "    <tr>\n",
       "      <td>4387</td>\n",
       "      <td>2.782154</td>\n",
       "      <td>2.754177</td>\n",
       "      <td>2.787407</td>\n",
       "      <td>2.766603</td>\n",
       "      <td>-0.575988</td>\n",
       "      <td>113.309998</td>\n",
       "    </tr>\n",
       "    <tr>\n",
       "      <td>4388</td>\n",
       "      <td>2.739700</td>\n",
       "      <td>2.735310</td>\n",
       "      <td>2.732368</td>\n",
       "      <td>2.718452</td>\n",
       "      <td>-0.048610</td>\n",
       "      <td>111.870003</td>\n",
       "    </tr>\n",
       "    <tr>\n",
       "      <td>4389</td>\n",
       "      <td>2.723320</td>\n",
       "      <td>2.700885</td>\n",
       "      <td>2.701641</td>\n",
       "      <td>2.730490</td>\n",
       "      <td>0.155816</td>\n",
       "      <td>112.230003</td>\n",
       "    </tr>\n",
       "    <tr>\n",
       "      <td>4390</td>\n",
       "      <td>2.737694</td>\n",
       "      <td>2.714457</td>\n",
       "      <td>2.760732</td>\n",
       "      <td>2.734168</td>\n",
       "      <td>-0.390000</td>\n",
       "      <td>112.339996</td>\n",
       "    </tr>\n",
       "    <tr>\n",
       "      <td>4391</td>\n",
       "      <td>2.732346</td>\n",
       "      <td>2.777017</td>\n",
       "      <td>2.761069</td>\n",
       "      <td>2.762591</td>\n",
       "      <td>-0.167936</td>\n",
       "      <td>113.190002</td>\n",
       "    </tr>\n",
       "  </tbody>\n",
       "</table>\n",
       "<p>4392 rows × 6 columns</p>\n",
       "</div>"
      ],
      "text/plain": [
       "          Open      High       Low     Close    Volume           y\n",
       "0    -0.894209 -0.885022 -0.892306 -0.884364  1.104812    4.125000\n",
       "1    -0.883762 -0.886056 -0.885975 -0.888021 -0.497301    4.015625\n",
       "2    -0.887941 -0.889159 -0.887558 -0.888543 -0.892217    4.000000\n",
       "3    -0.887941 -0.890194 -0.891251 -0.893768 -0.000263    3.843750\n",
       "4    -0.896820 -0.898986 -0.906551 -0.908920  3.729366    3.390625\n",
       "...        ...       ...       ...       ...       ...         ...\n",
       "4387  2.782154  2.754177  2.787407  2.766603 -0.575988  113.309998\n",
       "4388  2.739700  2.735310  2.732368  2.718452 -0.048610  111.870003\n",
       "4389  2.723320  2.700885  2.701641  2.730490  0.155816  112.230003\n",
       "4390  2.737694  2.714457  2.760732  2.734168 -0.390000  112.339996\n",
       "4391  2.732346  2.777017  2.761069  2.762591 -0.167936  113.190002\n",
       "\n",
       "[4392 rows x 6 columns]"
      ]
     },
     "execution_count": 9,
     "metadata": {},
     "output_type": "execute_result"
    }
   ],
   "source": [
    "data"
   ]
  },
  {
   "cell_type": "code",
   "execution_count": 10,
   "metadata": {},
   "outputs": [],
   "source": [
    "y = data[['y']].copy()\n",
    "x = data.drop(['y'], axis = 1)"
   ]
  },
  {
   "cell_type": "code",
   "execution_count": 11,
   "metadata": {},
   "outputs": [
    {
     "data": {
      "text/html": [
       "<div>\n",
       "<style scoped>\n",
       "    .dataframe tbody tr th:only-of-type {\n",
       "        vertical-align: middle;\n",
       "    }\n",
       "\n",
       "    .dataframe tbody tr th {\n",
       "        vertical-align: top;\n",
       "    }\n",
       "\n",
       "    .dataframe thead th {\n",
       "        text-align: right;\n",
       "    }\n",
       "</style>\n",
       "<table border=\"1\" class=\"dataframe\">\n",
       "  <thead>\n",
       "    <tr style=\"text-align: right;\">\n",
       "      <th></th>\n",
       "      <th>y</th>\n",
       "    </tr>\n",
       "  </thead>\n",
       "  <tbody>\n",
       "    <tr>\n",
       "      <td>0</td>\n",
       "      <td>4.125000</td>\n",
       "    </tr>\n",
       "    <tr>\n",
       "      <td>1</td>\n",
       "      <td>4.015625</td>\n",
       "    </tr>\n",
       "    <tr>\n",
       "      <td>2</td>\n",
       "      <td>4.000000</td>\n",
       "    </tr>\n",
       "    <tr>\n",
       "      <td>3</td>\n",
       "      <td>3.843750</td>\n",
       "    </tr>\n",
       "    <tr>\n",
       "      <td>4</td>\n",
       "      <td>3.390625</td>\n",
       "    </tr>\n",
       "    <tr>\n",
       "      <td>...</td>\n",
       "      <td>...</td>\n",
       "    </tr>\n",
       "    <tr>\n",
       "      <td>4387</td>\n",
       "      <td>113.309998</td>\n",
       "    </tr>\n",
       "    <tr>\n",
       "      <td>4388</td>\n",
       "      <td>111.870003</td>\n",
       "    </tr>\n",
       "    <tr>\n",
       "      <td>4389</td>\n",
       "      <td>112.230003</td>\n",
       "    </tr>\n",
       "    <tr>\n",
       "      <td>4390</td>\n",
       "      <td>112.339996</td>\n",
       "    </tr>\n",
       "    <tr>\n",
       "      <td>4391</td>\n",
       "      <td>113.190002</td>\n",
       "    </tr>\n",
       "  </tbody>\n",
       "</table>\n",
       "<p>4392 rows × 1 columns</p>\n",
       "</div>"
      ],
      "text/plain": [
       "               y\n",
       "0       4.125000\n",
       "1       4.015625\n",
       "2       4.000000\n",
       "3       3.843750\n",
       "4       3.390625\n",
       "...          ...\n",
       "4387  113.309998\n",
       "4388  111.870003\n",
       "4389  112.230003\n",
       "4390  112.339996\n",
       "4391  113.190002\n",
       "\n",
       "[4392 rows x 1 columns]"
      ]
     },
     "execution_count": 11,
     "metadata": {},
     "output_type": "execute_result"
    }
   ],
   "source": [
    "y"
   ]
  },
  {
   "cell_type": "code",
   "execution_count": 12,
   "metadata": {},
   "outputs": [
    {
     "data": {
      "text/plain": [
       "((4392, 5), (4392, 1))"
      ]
     },
     "execution_count": 12,
     "metadata": {},
     "output_type": "execute_result"
    }
   ],
   "source": [
    "x.shape,y.shape"
   ]
  },
  {
   "cell_type": "code",
   "execution_count": 13,
   "metadata": {},
   "outputs": [],
   "source": [
    "x = np.array(x, dtype=np.float32)\n",
    "y = np.array(data['y'].values, dtype=np.float32)"
   ]
  },
  {
   "cell_type": "code",
   "execution_count": 14,
   "metadata": {},
   "outputs": [
    {
     "data": {
      "text/plain": [
       "((4392,), (4392, 5))"
      ]
     },
     "execution_count": 14,
     "metadata": {},
     "output_type": "execute_result"
    }
   ],
   "source": [
    "y.shape,x.shape"
   ]
  },
  {
   "cell_type": "code",
   "execution_count": 15,
   "metadata": {},
   "outputs": [],
   "source": [
    "SEQUENCE_SIZE = 7\n",
    "x_cnn, y_cnn = to_sequences(SEQUENCE_SIZE,x,y)"
   ]
  },
  {
   "cell_type": "code",
   "execution_count": 16,
   "metadata": {},
   "outputs": [
    {
     "data": {
      "text/plain": [
       "((4385, 7, 1, 5), (4385,))"
      ]
     },
     "execution_count": 16,
     "metadata": {},
     "output_type": "execute_result"
    }
   ],
   "source": [
    "x_cnn.shape,y_cnn.shape"
   ]
  },
  {
   "cell_type": "code",
   "execution_count": 17,
   "metadata": {},
   "outputs": [
    {
     "data": {
      "text/plain": [
       "4385"
      ]
     },
     "execution_count": 17,
     "metadata": {},
     "output_type": "execute_result"
    }
   ],
   "source": [
    "x_cnn.shape[0]"
   ]
  },
  {
   "cell_type": "code",
   "execution_count": 23,
   "metadata": {},
   "outputs": [],
   "source": [
    "x_cnn= x_cnn.reshape(x_cnn.shape[0],1,5,7)"
   ]
  },
  {
   "cell_type": "code",
   "execution_count": 24,
   "metadata": {},
   "outputs": [],
   "source": [
    "x_train, x_test, y_train, y_test = train_test_split(x_cnn, y_cnn, test_size=0.25, random_state=33)"
   ]
  },
  {
   "cell_type": "code",
   "execution_count": 25,
   "metadata": {},
   "outputs": [
    {
     "data": {
      "text/plain": [
       "((3288, 1, 5, 7), (1097, 1, 5, 7), (3288,), (1097,))"
      ]
     },
     "execution_count": 25,
     "metadata": {},
     "output_type": "execute_result"
    }
   ],
   "source": [
    "x_train.shape,x_test.shape,y_train.shape,y_test.shape"
   ]
  },
  {
   "cell_type": "code",
   "execution_count": 28,
   "metadata": {},
   "outputs": [
    {
     "name": "stdout",
     "output_type": "stream",
     "text": [
      "Model: \"sequential_4\"\n",
      "_________________________________________________________________\n",
      "Layer (type)                 Output Shape              Param #   \n",
      "=================================================================\n",
      "conv2d_4 (Conv2D)            (None, 1, 1, 256)         9216      \n",
      "_________________________________________________________________\n",
      "max_pooling2d_4 (MaxPooling2 (None, 1, 1, 256)         0         \n",
      "_________________________________________________________________\n",
      "flatten_4 (Flatten)          (None, 256)               0         \n",
      "_________________________________________________________________\n",
      "dense_8 (Dense)              (None, 64)                16448     \n",
      "_________________________________________________________________\n",
      "dropout_4 (Dropout)          (None, 64)                0         \n",
      "_________________________________________________________________\n",
      "dense_9 (Dense)              (None, 1)                 65        \n",
      "=================================================================\n",
      "Total params: 25,729\n",
      "Trainable params: 25,729\n",
      "Non-trainable params: 0\n",
      "_________________________________________________________________\n",
      "Train on 3288 samples, validate on 1097 samples\n",
      "Epoch 1/1000\n",
      "3288/3288 - 1s - loss: 622.6409 - accuracy: 0.0000e+00 - val_loss: 155.8202 - val_accuracy: 0.0000e+00\n",
      "Epoch 2/1000\n",
      "3288/3288 - 1s - loss: 155.6554 - accuracy: 0.0000e+00 - val_loss: 59.2336 - val_accuracy: 0.0000e+00\n",
      "Epoch 3/1000\n",
      "3288/3288 - 1s - loss: 87.4785 - accuracy: 0.0000e+00 - val_loss: 25.5198 - val_accuracy: 0.0000e+00\n",
      "Epoch 4/1000\n",
      "3288/3288 - 1s - loss: 68.3623 - accuracy: 0.0000e+00 - val_loss: 9.4594 - val_accuracy: 0.0000e+00\n",
      "Epoch 5/1000\n",
      "3288/3288 - 1s - loss: 59.4976 - accuracy: 0.0000e+00 - val_loss: 7.6400 - val_accuracy: 0.0000e+00\n",
      "Epoch 6/1000\n",
      "3288/3288 - 1s - loss: 52.8140 - accuracy: 0.0000e+00 - val_loss: 6.0837 - val_accuracy: 0.0000e+00\n",
      "Epoch 7/1000\n",
      "3288/3288 - 1s - loss: 60.9573 - accuracy: 0.0000e+00 - val_loss: 4.4956 - val_accuracy: 0.0000e+00\n",
      "Epoch 8/1000\n",
      "3288/3288 - 1s - loss: 54.5994 - accuracy: 0.0000e+00 - val_loss: 4.4653 - val_accuracy: 0.0000e+00\n",
      "Epoch 9/1000\n",
      "3288/3288 - 1s - loss: 57.3856 - accuracy: 0.0000e+00 - val_loss: 7.0118 - val_accuracy: 0.0000e+00\n",
      "Epoch 10/1000\n",
      "3288/3288 - 1s - loss: 63.6418 - accuracy: 0.0000e+00 - val_loss: 3.1194 - val_accuracy: 0.0000e+00\n",
      "Epoch 11/1000\n",
      "3288/3288 - 1s - loss: 61.8204 - accuracy: 0.0000e+00 - val_loss: 21.3247 - val_accuracy: 0.0000e+00\n",
      "Epoch 12/1000\n",
      "3288/3288 - 1s - loss: 60.4893 - accuracy: 0.0000e+00 - val_loss: 10.3740 - val_accuracy: 0.0000e+00\n",
      "Epoch 13/1000\n",
      "3288/3288 - 1s - loss: 57.3409 - accuracy: 0.0000e+00 - val_loss: 7.9557 - val_accuracy: 0.0000e+00\n",
      "Epoch 14/1000\n",
      "3288/3288 - 1s - loss: 56.8326 - accuracy: 0.0000e+00 - val_loss: 4.9981 - val_accuracy: 0.0000e+00\n",
      "Epoch 15/1000\n",
      "3288/3288 - 1s - loss: 52.8714 - accuracy: 0.0000e+00 - val_loss: 3.9159 - val_accuracy: 0.0000e+00\n",
      "Epoch 00015: early stopping\n"
     ]
    }
   ],
   "source": [
    "from datetime import datetime\n",
    "from tensorflow.keras.models import Sequential\n",
    "from tensorflow.keras.layers import Dense, Dropout, Flatten\n",
    "from tensorflow.keras.layers import Conv2D, MaxPooling2D\n",
    "model_cnn = Sequential()\n",
    "model_cnn.add(Conv2D(256, kernel_size=(1,5), strides=(1, 1), padding='valid',input_shape=(1,5,7), activation =\"relu\"))\n",
    "model_cnn.add(MaxPooling2D(pool_size=(1,1)))\n",
    "model_cnn.add(Flatten())\n",
    "model_cnn.add(Dense(64, activation =\"relu\"))\n",
    "model_cnn.add(Dropout(0.5))\n",
    "model_cnn.add(Dense(1))\n",
    "model_cnn.compile(loss='mean_squared_error', optimizer='adam', metrics = ['accuracy'])\n",
    "model_cnn.summary()\n",
    "\n",
    "t1 = datetime.now()\n",
    "monitor = EarlyStopping(monitor='val_loss', min_delta=1e-3, patience=5, verbose=1, mode='auto')\n",
    "checkpointer = ModelCheckpoint(filepath=\"best_weights_cnn_relu.hdf5\", verbose=0, save_best_only=True) # save best model\n",
    "history = model_cnn.fit(x_train, y_train, validation_data= (x_test, y_test), callbacks=[monitor,checkpointer],verbose=2,epochs=1000)\n",
    "model_cnn.load_weights('best_weights_cnn_relu.hdf5') # load weights from best model\n",
    "\n",
    "train_time = datetime.now() - t1\n",
    "\n"
   ]
  },
  {
   "cell_type": "code",
   "execution_count": 29,
   "metadata": {},
   "outputs": [
    {
     "name": "stdout",
     "output_type": "stream",
     "text": [
      "Score_train (RMSE): 1.4876312017440796\n",
      "Score_test (RMSE): 1.7661901712417603\n"
     ]
    },
    {
     "data": {
      "image/png": "[encoded data removed]",
      "text/plain": [
       "<Figure size 432x288 with 1 Axes>"
      ]
     },
     "metadata": {
      "needs_background": "light"
     },
     "output_type": "display_data"
    },
    {
     "data": {
      "image/png": "[encoded data removed]",
      "text/plain": [
       "<Figure size 432x288 with 1 Axes>"
      ]
     },
     "metadata": {
      "needs_background": "light"
     },
     "output_type": "display_data"
    }
   ],
   "source": [
    "\n",
    "pred_train = model_cnn.predict(x_train)\n",
    "pred_test = model_cnn.predict(x_test)\n",
    "\n",
    "rmse = np.sqrt(metrics.mean_squared_error(y_train, pred_train))\n",
    "print(\"Score_train (RMSE): {}\".format(rmse))\n",
    "rmse = np.sqrt(metrics.mean_squared_error(y_test, pred_test))\n",
    "print(\"Score_test (RMSE): {}\".format(rmse))\n",
    "\n",
    "#regression lift Chart\n",
    "chart_regression(pred_train.flatten(),y_train, sort=True)\n",
    "chart_regression(pred_test.flatten(),y_test, sort=True)"
   ]
  },
  {
   "cell_type": "code",
   "execution_count": null,
   "metadata": {},
   "outputs": [],
   "source": []
  },
  {
   "cell_type": "code",
   "execution_count": null,
   "metadata": {},
   "outputs": [],
   "source": []
  }
 ],
 "metadata": {
  "kernelspec": {
   "display_name": "Python 3",
   "language": "python",
   "name": "python3"
  },
  "language_info": {
   "codemirror_mode": {
    "name": "ipython",
    "version": 3
   },
   "file_extension": ".py",
   "mimetype": "text/x-python",
   "name": "python",
   "nbconvert_exporter": "python",
   "pygments_lexer": "ipython3",
   "version": "3.7.4"
  }
 },
 "nbformat": 4,
 "nbformat_minor": 2
}
